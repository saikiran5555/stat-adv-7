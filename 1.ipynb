{
 "cells": [
  {
   "cell_type": "code",
   "execution_count": null,
   "id": "3d627a8a",
   "metadata": {},
   "outputs": [],
   "source": [
    "import numpy as np\n",
    "from scipy.stats import f\n",
    "\n",
    "def f_test_variance_ratio(data1, data2):\n",
    "    \"\"\"\n",
    "    Perform an F-test for comparing the variances of two independent samples.\n",
    "\n",
    "    Parameters:\n",
    "    data1 (array-like): The first sample of data.\n",
    "    data2 (array-like): The second sample of data.\n",
    "\n",
    "    Returns:\n",
    "    float: The calculated F-value.\n",
    "    float: The p-value corresponding to the F-value.\n",
    "    \"\"\"\n",
    "    # Calculate variances\n",
    "    var1 = np.var(data1, ddof=1)  # ddof=1 for sample variance\n",
    "    var2 = np.var(data2, ddof=1)\n",
    "\n",
    "    # Ensure var1 is the larger variance\n",
    "    if var1 < var2:\n",
    "        var1, var2 = var2, var1\n",
    "        data1, data2 = data2, data1\n",
    "\n",
    "    # Calculate F-value\n",
    "    F_value = var1 / var2\n",
    "\n",
    "    # Calculate degrees of freedom for each sample\n",
    "    df1 = len(data1) - 1\n",
    "    df2 = len(data2) - 1\n",
    "\n",
    "    # Calculate the p-value\n",
    "    p_value = 1 - f.cdf(F_value, df1, df2)\n",
    "\n",
    "    return F_value, p_value\n",
    "\n",
    "# Example usage\n",
    "data1 = [10, 12, 11, 15, 14]\n",
    "data2 = [8, 9, 7, 6, 5]\n",
    "F_value, p_value = f_test_variance_ratio(data1, data2)\n",
    "print(\"F-value:\", F_value)\n",
    "print(\"p-value:\", p_value)\n"
   ]
  },
  {
   "cell_type": "markdown",
   "id": "ff2b64d9",
   "metadata": {},
   "source": [
    "This function calculates the sample variances of the two datasets, computes the F-value, and then calculates the p-value using the F-distribution. The degrees of freedom for each sample are calculated based on the sample sizes. Note that this function assumes the data are normally distributed, which is an important assumption for the validity of the F-test."
   ]
  }
 ],
 "metadata": {
  "kernelspec": {
   "display_name": "Python 3 (ipykernel)",
   "language": "python",
   "name": "python3"
  },
  "language_info": {
   "codemirror_mode": {
    "name": "ipython",
    "version": 3
   },
   "file_extension": ".py",
   "mimetype": "text/x-python",
   "name": "python",
   "nbconvert_exporter": "python",
   "pygments_lexer": "ipython3",
   "version": "3.10.9"
  }
 },
 "nbformat": 4,
 "nbformat_minor": 5
}
