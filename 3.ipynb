{
 "cells": [
  {
   "cell_type": "code",
   "execution_count": null,
   "id": "f91c8379",
   "metadata": {},
   "outputs": [],
   "source": [
    "import numpy as np\n",
    "from scipy.stats import f\n",
    "\n",
    "def f_test_for_variances(sample1, sample2):\n",
    "    \"\"\"\n",
    "    Perform F-test to check the equality of variances for two samples.\n",
    "\n",
    "    Parameters:\n",
    "    sample1 (array-like): The first sample of data.\n",
    "    sample2 (array-like): The second sample of data.\n",
    "\n",
    "    Returns:\n",
    "    float: The calculated F-value.\n",
    "    int, int: Degrees of freedom for sample1 and sample2.\n",
    "    float: The p-value for the test.\n",
    "    \"\"\"\n",
    "    # Calculate variances\n",
    "    var1, var2 = np.var(sample1, ddof=1), np.var(sample2, ddof=1)\n",
    "\n",
    "    # Ensure var1 is the larger variance\n",
    "    if var1 < var2:\n",
    "        var1, var2 = var2, var1\n",
    "        sample1, sample2 = sample2, sample1\n",
    "\n",
    "    # Calculate F-value\n",
    "    F_value = var1 / var2\n",
    "\n",
    "    # Degrees of freedom\n",
    "    df1, df2 = len(sample1) - 1, len(sample2) - 1\n",
    "\n",
    "    # Calculate p-value\n",
    "    p_value = 1 - f.cdf(F_value, df1, df2)\n",
    "\n",
    "    return F_value, (df1, df2), p_value\n",
    "\n",
    "# Parameters for the normal distributions\n",
    "mean1, mean2 = 0, 0\n",
    "std1, std2 = 2, 3  # Known standard deviations\n",
    "size1, size2 = 100, 100  # Sample sizes\n",
    "\n",
    "# Generate random samples\n",
    "np.random.seed(0)  # For reproducibility\n",
    "sample1 = np.random.normal(mean1, std1, size1)\n",
    "sample2 = np.random.normal(mean2, std2, size2)\n",
    "\n",
    "# Perform F-test\n",
    "F_value, dfs, p_value = f_test_for_variances(sample1, sample2)\n",
    "\n",
    "# Output results\n",
    "print(f\"F-value: {F_value}\")\n",
    "print(f\"Degrees of freedom: {dfs}\")\n",
    "print(f\"p-value: {p_value}\")\n"
   ]
  },
  {
   "cell_type": "markdown",
   "id": "83f0e303",
   "metadata": {},
   "source": [
    "This program generates samples from two normal distributions with specified means and standard deviations. The f_test_for_variances function calculates the F-value, degrees of freedom, and p-value for the F-test. The results indicate whether there is a statistically significant difference between the variances of the two distributions."
   ]
  }
 ],
 "metadata": {
  "kernelspec": {
   "display_name": "Python 3 (ipykernel)",
   "language": "python",
   "name": "python3"
  },
  "language_info": {
   "codemirror_mode": {
    "name": "ipython",
    "version": 3
   },
   "file_extension": ".py",
   "mimetype": "text/x-python",
   "name": "python",
   "nbconvert_exporter": "python",
   "pygments_lexer": "ipython3",
   "version": "3.10.9"
  }
 },
 "nbformat": 4,
 "nbformat_minor": 5
}
