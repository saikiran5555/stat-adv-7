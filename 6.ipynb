{
 "cells": [
  {
   "cell_type": "code",
   "execution_count": null,
   "id": "030788b7",
   "metadata": {},
   "outputs": [],
   "source": [
    "def f_distribution_stats(df1, df2):\n",
    "    # Check for valid degrees of freedom\n",
    "    if df2 <= 4:\n",
    "        raise ValueError(\"df2 must be greater than 4 for variance calculation.\")\n",
    "    if df2 <= 2:\n",
    "        raise ValueError(\"df2 must be greater than 2 for mean calculation.\")\n",
    "    \n",
    "    # Calculate mean\n",
    "    mean = df2 / (df2 - 2)\n",
    "\n",
    "    # Calculate variance\n",
    "    variance = (2 * df2 ** 2 * (df1 + df2 - 2)) / (df1 * (df2 - 2) ** 2 * (df2 - 4))\n",
    "\n",
    "    return mean, variance\n",
    "\n",
    "# Example usage\n",
    "df1 = 10  # Degrees of freedom for the numerator\n",
    "df2 = 12  # Degrees of freedom for the denominator\n",
    "mean, variance = f_distribution_stats(df1, df2)\n",
    "print(\"Mean:\", mean)\n",
    "print(\"Variance:\", variance)\n"
   ]
  }
 ],
 "metadata": {
  "kernelspec": {
   "display_name": "Python 3 (ipykernel)",
   "language": "python",
   "name": "python3"
  },
  "language_info": {
   "codemirror_mode": {
    "name": "ipython",
    "version": 3
   },
   "file_extension": ".py",
   "mimetype": "text/x-python",
   "name": "python",
   "nbconvert_exporter": "python",
   "pygments_lexer": "ipython3",
   "version": "3.10.9"
  }
 },
 "nbformat": 4,
 "nbformat_minor": 5
}
