{
 "cells": [
  {
   "cell_type": "markdown",
   "id": "f1ef2d67",
   "metadata": {},
   "source": [
    "To conduct an F-test to compare the variances of the waiting times at two different restaurants, we first calculate the sample variances for each restaurant and then compute the F-statistic. The steps are as follows:\n",
    "\n",
    "Calculate Sample Variances:\n",
    "\n",
    "For Restaurant A and B, calculate the variances of their waiting times.\n",
    "Compute the F-Statistic:\n",
    "\n",
    "The F-statistic is calculated as the ratio of the two sample variances. The variance of the group with the higher variance is placed in the numerator.\n",
    "Degrees of Freedom:\n",
    "\n",
    "The degrees of freedom for each sample are their respective sample sizes minus one.\n",
    "Determine the Critical Value or P-Value:\n",
    "\n",
    "Using the F-distribution table or a statistical software, find the critical F-value for a 5% significance level, or calculate the p-value.\n",
    "Decision:\n",
    "\n",
    "Compare the calculated F-statistic to the critical F-value or check the p-value. If the F-statistic is larger than the critical value or the p-value is less than the significance level, reject the null hypothesis.\n",
    "Let's perform these calculations. I'll provide the Python code for this analysis:"
   ]
  },
  {
   "cell_type": "code",
   "execution_count": null,
   "id": "e5faed7e",
   "metadata": {},
   "outputs": [],
   "source": [
    "import scipy.stats as stats\n",
    "\n",
    "# Data for Restaurant A and B\n",
    "restaurant_a = [24, 25, 28, 23, 22, 20, 27]\n",
    "restaurant_b = [31, 33, 35, 30, 32, 36]\n",
    "\n",
    "# Calculate sample variances\n",
    "var_a = np.var(restaurant_a, ddof=1)\n",
    "var_b = np.var(restaurant_b, ddof=1)\n",
    "\n",
    "# F-Statistic\n",
    "# The larger variance should be in the numerator to ensure F is greater than 1\n",
    "F = max(var_a, var_b) / min(var_a, var_b)\n",
    "\n",
    "# Degrees of freedom for each sample\n",
    "df_a = len(restaurant_a) - 1\n",
    "df_b = len(restaurant_b) - 1\n",
    "\n",
    "# P-value from the F-distribution\n",
    "p_value = stats.f.sf(F, df_a, df_b)\n",
    "\n",
    "# Output\n",
    "print(f\"F-Statistic: {F}\")\n",
    "print(f\"P-value: {p_value}\")\n",
    "\n",
    "# Significance Level\n",
    "alpha = 0.05\n",
    "\n",
    "# Decision\n",
    "if p_value < alpha:\n",
    "    print(\"Reject the null hypothesis, indicating significant difference in variances.\")\n",
    "else:\n",
    "    print(\"Do not reject the null hypothesis, indicating no significant difference in variances.\")\n"
   ]
  }
 ],
 "metadata": {
  "kernelspec": {
   "display_name": "Python 3 (ipykernel)",
   "language": "python",
   "name": "python3"
  },
  "language_info": {
   "codemirror_mode": {
    "name": "ipython",
    "version": 3
   },
   "file_extension": ".py",
   "mimetype": "text/x-python",
   "name": "python",
   "nbconvert_exporter": "python",
   "pygments_lexer": "ipython3",
   "version": "3.10.9"
  }
 },
 "nbformat": 4,
 "nbformat_minor": 5
}
