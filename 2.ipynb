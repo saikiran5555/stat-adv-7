{
 "cells": [
  {
   "cell_type": "code",
   "execution_count": null,
   "id": "2091d4ee",
   "metadata": {},
   "outputs": [],
   "source": [
    "from scipy.stats import f\n",
    "\n",
    "def find_critical_f_value(alpha, df1, df2):\n",
    "    # For a two-tailed test, we split the alpha into two tails\n",
    "    lower_tail = alpha / 2\n",
    "    upper_tail = 1 - alpha / 2\n",
    "\n",
    "    # Find the critical F-values for the lower and upper tails\n",
    "    lower_critical_value = f.ppf(lower_tail, df1, df2)\n",
    "    upper_critical_value = f.ppf(upper_tail, df1, df2)\n",
    "\n",
    "    return lower_critical_value, upper_critical_value\n",
    "\n",
    "# Example usage\n",
    "alpha = 0.05\n",
    "df1 = 6\n",
    "df2 = 8\n",
    "lower_critical_value, upper_critical_value = find_critical_f_value(alpha, df1, df2)\n",
    "print(\"Lower Critical F-value:\", lower_critical_value)\n",
    "print(\"Upper Critical F-value:\", upper_critical_value)\n"
   ]
  },
  {
   "cell_type": "markdown",
   "id": "ec90ed9c",
   "metadata": {},
   "source": [
    "This function will return the lower and upper critical F-values for the specified alpha level and degrees of freedom. The f.ppf function from scipy.stats computes the inverse of the cumulative distribution function (CDF) for the F-distribution, which is used to find the quantiles corresponding to the critical values."
   ]
  }
 ],
 "metadata": {
  "kernelspec": {
   "display_name": "Python 3 (ipykernel)",
   "language": "python",
   "name": "python3"
  },
  "language_info": {
   "codemirror_mode": {
    "name": "ipython",
    "version": 3
   },
   "file_extension": ".py",
   "mimetype": "text/x-python",
   "name": "python",
   "nbconvert_exporter": "python",
   "pygments_lexer": "ipython3",
   "version": "3.10.9"
  }
 },
 "nbformat": 4,
 "nbformat_minor": 5
}
